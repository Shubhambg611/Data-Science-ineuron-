{
  "nbformat": 4,
  "nbformat_minor": 0,
  "metadata": {
    "colab": {
      "provenance": []
    },
    "kernelspec": {
      "name": "python3",
      "display_name": "Python 3"
    },
    "language_info": {
      "name": "python"
    }
  },
  "cells": [
    {
      "cell_type": "markdown",
      "source": [
        "1. What is the role of try and exception block?\n",
        "* Ans :  try-except block is used in programming to handle and manage exceptions or errors that may occur during program execution.If an error occurs, instead of crashing the program, it jumps to the except block that matches the type of error.By using try-except blocks, we can prevent our program from crashing and deal with errors in a controlled way, making our code more reliable."
      ],
      "metadata": {
        "id": "8CZUiyIVOLih"
      }
    },
    {
      "cell_type": "markdown",
      "source": [
        "2. What is the syntax for a basic try-except block?"
      ],
      "metadata": {
        "id": "L_1cJ-5DQB6b"
      }
    },
    {
      "cell_type": "code",
      "execution_count": null,
      "metadata": {
        "id": "Dfnfm3D5ODZU"
      },
      "outputs": [],
      "source": [
        "try:\n",
        "    # Code\n",
        "except Exception:\n",
        "    # Code\n",
        "\n"
      ]
    },
    {
      "cell_type": "markdown",
      "source": [
        "3. What happens if an exception occurs inside a try block and there is no matching\n",
        "except block?\n",
        "* Ans: it will thorugh a error"
      ],
      "metadata": {
        "id": "vm1GhpWmS4Ui"
      }
    },
    {
      "cell_type": "code",
      "source": [
        "try:\n",
        "    num1 = 10\n",
        "    num2 = 0\n",
        "    result = num1 / num2\n",
        "    print(\"Result:\", result)\n",
        "except ValueError:\n",
        "    print(\"Caught a ValueError\")"
      ],
      "metadata": {
        "colab": {
          "base_uri": "https://localhost:8080/",
          "height": 235
        },
        "id": "UeJ-lWZzQEBI",
        "outputId": "15fa3be7-c376-46b5-a809-1a6a896a5210"
      },
      "execution_count": 4,
      "outputs": [
        {
          "output_type": "error",
          "ename": "ZeroDivisionError",
          "evalue": "ignored",
          "traceback": [
            "\u001b[0;31m---------------------------------------------------------------------------\u001b[0m",
            "\u001b[0;31mZeroDivisionError\u001b[0m                         Traceback (most recent call last)",
            "\u001b[0;32m<ipython-input-4-11a2fd2a7536>\u001b[0m in \u001b[0;36m<cell line: 1>\u001b[0;34m()\u001b[0m\n\u001b[1;32m      2\u001b[0m     \u001b[0mnum1\u001b[0m \u001b[0;34m=\u001b[0m \u001b[0;36m10\u001b[0m\u001b[0;34m\u001b[0m\u001b[0;34m\u001b[0m\u001b[0m\n\u001b[1;32m      3\u001b[0m     \u001b[0mnum2\u001b[0m \u001b[0;34m=\u001b[0m \u001b[0;36m0\u001b[0m\u001b[0;34m\u001b[0m\u001b[0;34m\u001b[0m\u001b[0m\n\u001b[0;32m----> 4\u001b[0;31m     \u001b[0mresult\u001b[0m \u001b[0;34m=\u001b[0m \u001b[0mnum1\u001b[0m \u001b[0;34m/\u001b[0m \u001b[0mnum2\u001b[0m\u001b[0;34m\u001b[0m\u001b[0;34m\u001b[0m\u001b[0m\n\u001b[0m\u001b[1;32m      5\u001b[0m     \u001b[0mprint\u001b[0m\u001b[0;34m(\u001b[0m\u001b[0;34m\"Result:\"\u001b[0m\u001b[0;34m,\u001b[0m \u001b[0mresult\u001b[0m\u001b[0;34m)\u001b[0m\u001b[0;34m\u001b[0m\u001b[0;34m\u001b[0m\u001b[0m\n\u001b[1;32m      6\u001b[0m \u001b[0;32mexcept\u001b[0m \u001b[0mValueError\u001b[0m\u001b[0;34m:\u001b[0m\u001b[0;34m\u001b[0m\u001b[0;34m\u001b[0m\u001b[0m\n",
            "\u001b[0;31mZeroDivisionError\u001b[0m: division by zero"
          ]
        }
      ]
    },
    {
      "cell_type": "markdown",
      "source": [
        "4. What is the difference between using a bare except block and specifying a specific\n",
        "exception type?\n",
        "* Ans:\n",
        "  * Bare Except block :- In this example, a bare except block is used to catch any exception that occurs within the try block. Regardless of the type of exception (e.g., ZeroDivisionError, ValueError), the program will execute the code inside the except block, displaying a generic error message.\n",
        "  * Specific Exception Type:- pecific exception type (TypeError) is specified in the except block. If a TypeError occurs within the try block (e.g., dividing a number by a string), the program will execute the code inside the except block, displaying a specific error message tailored to handling that particular exception.\n"
      ],
      "metadata": {
        "id": "h6EnDE5_TX5Q"
      }
    },
    {
      "cell_type": "code",
      "source": [
        "# bare Except block\n",
        "try:\n",
        "    num1 = 10\n",
        "    num2 = 0\n",
        "    result = num1 / num2  # This will raise a ZeroDivisionError\n",
        "    print(\"Result:\", result)  # This line will not execute\n",
        "except:\n",
        "    print(\"An error occurred!\")  # Generic error handling message\n"
      ],
      "metadata": {
        "colab": {
          "base_uri": "https://localhost:8080/"
        },
        "id": "GYorPRg0TAor",
        "outputId": "8df19b2e-cb07-47f9-aeb1-d97773589902"
      },
      "execution_count": 1,
      "outputs": [
        {
          "output_type": "stream",
          "name": "stdout",
          "text": [
            "An error occurred!\n"
          ]
        }
      ]
    },
    {
      "cell_type": "code",
      "source": [
        "# Specific Excution type:-\n",
        "try:\n",
        "    num1 = 10\n",
        "    num2 = '0'\n",
        "    result = num1 / num2  # This will raise a TypeError\n",
        "    print(\"Result:\", result)  # This line will not execute\n",
        "except TypeError:\n",
        "    print(\"Cannot perform division with a string!\")\n"
      ],
      "metadata": {
        "colab": {
          "base_uri": "https://localhost:8080/"
        },
        "id": "1SgH3L39tCpb",
        "outputId": "cda4dc26-7bc4-4ab6-b1bc-369bd17f944c"
      },
      "execution_count": 2,
      "outputs": [
        {
          "output_type": "stream",
          "name": "stdout",
          "text": [
            "Cannot perform division with a string!\n"
          ]
        }
      ]
    },
    {
      "cell_type": "markdown",
      "source": [
        "5. Can you have nested try-except blocks in Python? If yes, then give an example.\n",
        "* Ans = Yes we can have nested try and except block in python"
      ],
      "metadata": {
        "id": "y4CKrsq9tQmr"
      }
    },
    {
      "cell_type": "code",
      "source": [
        "try:\n",
        "\n",
        "    num1 = 10\n",
        "    num2 = 0\n",
        "\n",
        "    try:\n",
        "\n",
        "        result = num1 / num2\n",
        "        print(\"Result:\", result)\n",
        "    except ZeroDivisionError:\n",
        "        print(\"Cannot divide by zero in the inner block!\")\n",
        "\n",
        "except ZeroDivisionError:\n",
        "    print(\"Cannot divide by zero in the outer block!\")\n"
      ],
      "metadata": {
        "colab": {
          "base_uri": "https://localhost:8080/"
        },
        "id": "DKP72d1BtLB0",
        "outputId": "5a2d61c5-e6c5-44c1-bfb4-204fb0523d67"
      },
      "execution_count": 4,
      "outputs": [
        {
          "output_type": "stream",
          "name": "stdout",
          "text": [
            "Cannot divide by zero in the inner block!\n"
          ]
        }
      ]
    },
    {
      "cell_type": "markdown",
      "source": [
        "6. Can we use multiple exception blocks, if yes then give an example.\n",
        "* Ans : yes we can use multiple expection blocks"
      ],
      "metadata": {
        "id": "OAiX3I5duVbg"
      }
    },
    {
      "cell_type": "code",
      "source": [
        "try:\n",
        "    num1 = 10\n",
        "    num2 = '0'\n",
        "    result = num1 / num2\n",
        "    print(\"Result:\", result)\n",
        "\n",
        "except TypeError:\n",
        "    print(\"Cannot perform division with a string!\")\n",
        "\n",
        "except ZeroDivisionError:\n",
        "    print(\"Cannot divide by zero!\")\n"
      ],
      "metadata": {
        "colab": {
          "base_uri": "https://localhost:8080/"
        },
        "id": "yaQWMnk4uGI7",
        "outputId": "97110899-3f72-4df7-ac89-f92b06ce0535"
      },
      "execution_count": 5,
      "outputs": [
        {
          "output_type": "stream",
          "name": "stdout",
          "text": [
            "Cannot perform division with a string!\n"
          ]
        }
      ]
    },
    {
      "cell_type": "markdown",
      "source": [
        "7. Write the reason due to which following errors are raised:"
      ],
      "metadata": {
        "id": "063ZFOdWuw5x"
      }
    },
    {
      "cell_type": "markdown",
      "source": [
        "### * Ans:\n",
        "  * EOFError : End of file error raised when the input() function does not have input\n",
        "  * FloatingPointError : an error that occurs when a floating-point calculation is attempted that is not supported by the available hardware or software.\n",
        "  * IndexError: indeerror is built in funtion raised when try to access a sequence using invalid index\n",
        "  * MemoryError: raise when lack of available memory(RAM)\n",
        "  * OverflowError: raised when operation exceeds the maximum limit of numeric type rsulting overflow\n",
        "  *  TabError : raised whene there is issue with the indentation of code using tabs\n",
        "  * ValueError: raised when functon recived is correct but with inappoprite value."
      ],
      "metadata": {
        "id": "THHgycIDu0-L"
      }
    },
    {
      "cell_type": "markdown",
      "source": [
        "8. Write code for the following given scenario and add try-exception block to it."
      ],
      "metadata": {
        "id": "t4wfLGpayGYV"
      }
    },
    {
      "cell_type": "code",
      "source": [
        "# Program to divide two numbers\n",
        "try:\n",
        "  x = 10\n",
        "  y = 2\n",
        "  div = x / y\n",
        "  print(div)\n",
        "\n",
        "except:\n",
        "  print (\"Cannot divide by 0\")"
      ],
      "metadata": {
        "colab": {
          "base_uri": "https://localhost:8080/"
        },
        "id": "JMahNKIzurkw",
        "outputId": "1474fafc-5cf6-4da2-8465-f44e0fca80f6"
      },
      "execution_count": 12,
      "outputs": [
        {
          "output_type": "stream",
          "name": "stdout",
          "text": [
            "5.0\n"
          ]
        }
      ]
    },
    {
      "cell_type": "code",
      "source": [
        "# Program to convert a string to an integer\n",
        "try:\n",
        "  name = input(\"enter a name:\")\n",
        "  print(type(name))\n",
        "  s_name = int(name)\n",
        "  print(type(s_name))\n",
        "\n",
        "except ValueError:\n",
        "    print(\"Invalid conversion to integer!\")\n",
        "\n",
        "except:\n",
        "  print(\"Already int\")"
      ],
      "metadata": {
        "colab": {
          "base_uri": "https://localhost:8080/"
        },
        "id": "1O4XLB1PydXo",
        "outputId": "303a30c8-442a-43ed-f91d-fd575185e109"
      },
      "execution_count": 20,
      "outputs": [
        {
          "output_type": "stream",
          "name": "stdout",
          "text": [
            "enter a name:shubham\n",
            "<class 'str'>\n",
            "Invalid conversion to integer!\n"
          ]
        }
      ]
    },
    {
      "cell_type": "code",
      "source": [
        "# Program to access an element in a list\n",
        "def access_element(my_list, index):\n",
        "    try:\n",
        "        element = my_list[index]\n",
        "        return element\n",
        "    except IndexError:\n",
        "        print(\"Invalid index\")\n",
        "        return None\n",
        "\n",
        "my_list = [10, 20, 30, 40, 50]\n",
        "\n",
        "input_index = int(input(\"Enter an index: \"))\n",
        "accessed_element = access_element(my_list, input_index)\n",
        "\n",
        "if accessed_element is not None:\n",
        "    print(\"Accessed element:\", accessed_element)\n"
      ],
      "metadata": {
        "colab": {
          "base_uri": "https://localhost:8080/"
        },
        "id": "MEuAOFEm1DQA",
        "outputId": "606117d8-8a2b-43a6-f3df-b3b535ae814d"
      },
      "execution_count": 27,
      "outputs": [
        {
          "output_type": "stream",
          "name": "stdout",
          "text": [
            "Enter an index: 3\n",
            "Accessed element: 40\n"
          ]
        }
      ]
    },
    {
      "cell_type": "code",
      "source": [
        "# Program to handle a specific exception\n",
        "def divide_numbers(num1, num2):\n",
        "    try:\n",
        "        result = num1 / num2\n",
        "        return result\n",
        "    except ZeroDivisionError:\n",
        "        print(\"Error: Cannot divide by zero.\")\n",
        "        return None\n",
        "\n",
        "input_num1 = float(input(\"Enter the first number: \"))\n",
        "input_num2 = float(input(\"Enter the second number: \"))\n",
        "\n",
        "division_result = divide_numbers(input_num1, input_num2)\n",
        "\n",
        "if division_result is not None:\n",
        "    print(\"Division result:\", division_result)\n"
      ],
      "metadata": {
        "colab": {
          "base_uri": "https://localhost:8080/"
        },
        "id": "PkvAadnv1QWC",
        "outputId": "49574d41-4374-4f62-bf0f-8f0ab1a236b8"
      },
      "execution_count": 30,
      "outputs": [
        {
          "output_type": "stream",
          "name": "stdout",
          "text": [
            "Enter the first number: 5\n",
            "Enter the second number: 0\n",
            "Error: Cannot divide by zero.\n"
          ]
        }
      ]
    },
    {
      "cell_type": "code",
      "source": [
        "# Program to handle any exception\n",
        "def divide_numbers(num1, num2):\n",
        "    try:\n",
        "        result = num1 / num2\n",
        "        return result\n",
        "    except Exception as e:\n",
        "        print(\"An error occurred:\", str(e))\n",
        "        return None\n",
        "\n",
        "input_num1 = float(input(\"Enter the first number: \"))\n",
        "input_num2 = float(input(\"Enter the second number: \"))\n",
        "\n",
        "division_result = divide_numbers(input_num1, input_num2)\n",
        "\n",
        "if division_result is not None:\n",
        "    print(\"Division result:\", division_result)"
      ],
      "metadata": {
        "colab": {
          "base_uri": "https://localhost:8080/"
        },
        "id": "-h10JnGY2fYL",
        "outputId": "aaa845d8-87de-4cb3-b666-2d129dd1dbb6"
      },
      "execution_count": 32,
      "outputs": [
        {
          "output_type": "stream",
          "name": "stdout",
          "text": [
            "Enter the first number: 12\n",
            "Enter the second number: 0\n",
            "An error occurred: float division by zero\n"
          ]
        }
      ]
    }
  ]
}
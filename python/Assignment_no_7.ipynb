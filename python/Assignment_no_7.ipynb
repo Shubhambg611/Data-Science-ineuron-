{
  "nbformat": 4,
  "nbformat_minor": 0,
  "metadata": {
    "colab": {
      "provenance": []
    },
    "kernelspec": {
      "name": "python3",
      "display_name": "Python 3"
    },
    "language_info": {
      "name": "python"
    }
  },
  "cells": [
    {
      "cell_type": "markdown",
      "source": [
        "1. Create two int type variables, apply addition, subtraction, division and multiplications\n",
        "and store the results in variables. Then print the data in the following format by calling the\n",
        "variables:"
      ],
      "metadata": {
        "id": "M1fPfM7wAFrE"
      }
    },
    {
      "cell_type": "code",
      "execution_count": 6,
      "metadata": {
        "colab": {
          "base_uri": "https://localhost:8080/"
        },
        "id": "UPUUpsbO7EX3",
        "outputId": "0e9d7c38-9991-4ce4-a412-2ba53920b9c9"
      },
      "outputs": [
        {
          "output_type": "stream",
          "name": "stdout",
          "text": [
            "First variable is  100 and second variable is 20\n",
            "Additiion: 100 + 20 = 120\n",
            "Subtraction: 100 - 20 = 80\n",
            "Multiplication: 100 * 20 = 2000\n",
            "Division: 100 / 20 = 5.0\n"
          ]
        }
      ],
      "source": [
        "a = 100\n",
        "b = 20\n",
        "add = a + b\n",
        "sub = a - b\n",
        "multi = a * b\n",
        "div = a / b\n",
        "\n",
        "print(\"First variable is \",a ,\"and second variable is\",b)\n",
        "print(\"Additiion:\",a,'+',b,'=',add)\n",
        "print(\"Subtraction:\",a,'-',b,'=',sub)\n",
        "print(\"Multiplication:\",a,'*',b,'=',multi)\n",
        "print(\"Division:\",a,'/',b,'=',div)"
      ]
    },
    {
      "cell_type": "markdown",
      "source": [
        "2. What is the difference between the following operators:\n",
        "* ‘/’ & ‘//’\n",
        " * '/': The forward slash ('/') is the division operator in many programming languages. It performs regular division between two operands and returns the quotient as a floating-point or decimal number\n",
        " * '//': The double forward slash ('//') is known as the floor division or integer division operator. It divides two operands and returns the integer part of the quotient, discarding any decimal remainder.\n",
        "\n",
        "* ‘**’ & ‘^’\n",
        " * this is exponentiation operator in many programming languages. It raises the left operand to the power of the right operand. For example, in Python, the expression 2 ** 3 would evaluate to 8 since 2 raised to the power of 3 is 8.\n",
        " *The use of '^' as an exponentiation operator may vary depending on the programming language or context. It is important to consult the specific language's documentation or guidelines to determine if '^' is used for exponentiation."
      ],
      "metadata": {
        "id": "UTfRItrdAP3J"
      }
    },
    {
      "cell_type": "code",
      "source": [
        "a = 100\n",
        "b = 10\n",
        "\n",
        "div = a / b\n",
        "doub_div = a // b\n",
        "expo = a ** 2\n",
        "u_expo = a ^ 2\n",
        "\n",
        "print(div)\n",
        "print(doub_div)\n",
        "print(expo)\n",
        "print(u_expo)"
      ],
      "metadata": {
        "colab": {
          "base_uri": "https://localhost:8080/"
        },
        "id": "pyf64flC8PiZ",
        "outputId": "32b38ce6-34bb-4713-8221-3d9d627fcf67"
      },
      "execution_count": 8,
      "outputs": [
        {
          "output_type": "stream",
          "name": "stdout",
          "text": [
            "10.0\n",
            "10\n",
            "10000\n",
            "102\n"
          ]
        }
      ]
    },
    {
      "cell_type": "markdown",
      "source": [
        "3. List of logical operator\n"
      ],
      "metadata": {
        "id": "fnHDbGNPCx8s"
      }
    },
    {
      "cell_type": "code",
      "source": [
        "logical_operators = ['and', 'or', 'not']"
      ],
      "metadata": {
        "id": "8LW7vp95CXI7"
      },
      "execution_count": 9,
      "outputs": []
    },
    {
      "cell_type": "markdown",
      "source": [
        "4. Explain right shift operator and left shift operator with examples."
      ],
      "metadata": {
        "id": "joOpVEIDDqR4"
      }
    },
    {
      "cell_type": "markdown",
      "source": [
        "Right Shift (>>) Operator:\n",
        "The right shift operator (>>) moves the bits of a number towards the right by a specified number of positions. It effectively divides the number by 2 raised to the power of the shift amount. The rightmost bits are discarded, and the leftmost bits are filled with the sign bit (for signed numbers) or with zeros (for unsigned numbers)."
      ],
      "metadata": {
        "id": "C4YfqqOkD0MA"
      }
    },
    {
      "cell_type": "code",
      "source": [
        "# Unsigned right shift\n",
        "number = 15  # Binary: 00001111\n",
        "shift_amount = 2\n",
        "\n",
        "result = number >> shift_amount\n",
        "print(result)  # Output: 3  (Binary: 00000011)\n"
      ],
      "metadata": {
        "colab": {
          "base_uri": "https://localhost:8080/"
        },
        "id": "9LTyM4fpC36G",
        "outputId": "cc04b7b9-5e8b-481d-f23a-2bb7086c1e8f"
      },
      "execution_count": 10,
      "outputs": [
        {
          "output_type": "stream",
          "name": "stdout",
          "text": [
            "3\n"
          ]
        }
      ]
    },
    {
      "cell_type": "markdown",
      "source": [
        "Left Shift (<<) Operator:\n",
        "The left shift operator (<<) moves the bits of a number towards the left by a specified number of positions. It effectively multiplies the number by 2 raised to the power of the shift amount. The rightmost bits are filled with zeros."
      ],
      "metadata": {
        "id": "wVP8IjFiEDVx"
      }
    },
    {
      "cell_type": "code",
      "source": [
        "# Left shift\n",
        "number = 5  # Binary: 00000101\n",
        "shift_amount = 3\n",
        "\n",
        "result = number << shift_amount\n",
        "print(result)  # Output: 40  (Binary: 00101000)\n"
      ],
      "metadata": {
        "colab": {
          "base_uri": "https://localhost:8080/"
        },
        "id": "GXmzIZvWD3r1",
        "outputId": "35f69657-d39b-4e00-b77c-c48fef5595d9"
      },
      "execution_count": 11,
      "outputs": [
        {
          "output_type": "stream",
          "name": "stdout",
          "text": [
            "40\n"
          ]
        }
      ]
    },
    {
      "cell_type": "markdown",
      "source": [
        "5. Create a list containing int type data of length 15. Then write a code to check if 10 is\n",
        "present in the list or not."
      ],
      "metadata": {
        "id": "hRfcOVPhEbN_"
      }
    },
    {
      "cell_type": "code",
      "source": [
        "# Creating a list of integers\n",
        "my_list = [5, 2, 8, 12, 3, 7, 10, 15, 20, 6, 1, 9, 14, 11, 4]\n",
        "\n",
        "# Checking if 10 is present in the list\n",
        "if 10 in my_list:\n",
        "    print(\"10 is present in the list.\")\n",
        "else:\n",
        "    print(\"10 is not present in the list.\")\n"
      ],
      "metadata": {
        "colab": {
          "base_uri": "https://localhost:8080/"
        },
        "id": "E27tGGkyEJdn",
        "outputId": "27507fbe-f218-4acc-a8ed-8cc5c450a5c6"
      },
      "execution_count": 12,
      "outputs": [
        {
          "output_type": "stream",
          "name": "stdout",
          "text": [
            "10 is present in the list.\n"
          ]
        }
      ]
    },
    {
      "cell_type": "code",
      "source": [],
      "metadata": {
        "id": "kk_tjqO5EyPU"
      },
      "execution_count": null,
      "outputs": []
    }
  ]
}
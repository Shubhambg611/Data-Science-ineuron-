{
  "nbformat": 4,
  "nbformat_minor": 0,
  "metadata": {
    "colab": {
      "provenance": []
    },
    "kernelspec": {
      "name": "python3",
      "display_name": "Python 3"
    },
    "language_info": {
      "name": "python"
    }
  },
  "cells": [
    {
      "cell_type": "markdown",
      "source": [
        "1.What does an empty dictionary's code look like?"
      ],
      "metadata": {
        "id": "vzx4IjevKFk1"
      }
    },
    {
      "cell_type": "code",
      "execution_count": 1,
      "metadata": {
        "id": "rK3syzSpKDeH",
        "colab": {
          "base_uri": "https://localhost:8080/"
        },
        "outputId": "9f55ba89-8d8b-4e2a-83db-10fda894e924"
      },
      "outputs": [
        {
          "output_type": "execute_result",
          "data": {
            "text/plain": [
              "dict"
            ]
          },
          "metadata": {},
          "execution_count": 1
        }
      ],
      "source": [
        "dict = { }\n",
        "type(dict)"
      ]
    },
    {
      "cell_type": "markdown",
      "source": [
        "2. What is the value of a dictionary value with the key 'foo' and the value 42?"
      ],
      "metadata": {
        "id": "tMuyLk7HUYQ-"
      }
    },
    {
      "cell_type": "code",
      "source": [
        "dict= {'foo':42}\n",
        "dict"
      ],
      "metadata": {
        "id": "Tr1U2WCTO5pd",
        "colab": {
          "base_uri": "https://localhost:8080/"
        },
        "outputId": "d4165daa-0604-4d5b-f8ac-92ef41b0b26e"
      },
      "execution_count": 2,
      "outputs": [
        {
          "output_type": "execute_result",
          "data": {
            "text/plain": [
              "{'foo': 42}"
            ]
          },
          "metadata": {},
          "execution_count": 2
        }
      ]
    },
    {
      "cell_type": "markdown",
      "source": [
        "3.What is the most significant distinction between a dictionary and a list?\n",
        "* Most significant difference:\n",
        "* List - items in list are Ordered\n",
        "* Dictionary : iten in dictionary are unordered"
      ],
      "metadata": {
        "id": "oaU0gIcQVoL5"
      }
    },
    {
      "cell_type": "markdown",
      "source": [
        "4. What happens if you try to access spam['foo'] if spam is {'bar': 100}?\n"
      ],
      "metadata": {
        "id": "bP8wJ4MeWm6o"
      }
    },
    {
      "cell_type": "code",
      "source": [
        "spam = {\"bar\":100}\n",
        "spam['foo']"
      ],
      "metadata": {
        "id": "MMSDVNHjUWdE",
        "colab": {
          "base_uri": "https://localhost:8080/",
          "height": 183
        },
        "outputId": "a2d9a795-3f03-471f-9c4d-55013feec433"
      },
      "execution_count": 3,
      "outputs": [
        {
          "output_type": "error",
          "ename": "KeyError",
          "evalue": "ignored",
          "traceback": [
            "\u001b[0;31m---------------------------------------------------------------------------\u001b[0m",
            "\u001b[0;31mKeyError\u001b[0m                                  Traceback (most recent call last)",
            "\u001b[0;32m<ipython-input-3-86749703de34>\u001b[0m in \u001b[0;36m<cell line: 2>\u001b[0;34m()\u001b[0m\n\u001b[1;32m      1\u001b[0m \u001b[0mspam\u001b[0m \u001b[0;34m=\u001b[0m \u001b[0;34m{\u001b[0m\u001b[0;34m\"bar\"\u001b[0m\u001b[0;34m:\u001b[0m\u001b[0;36m100\u001b[0m\u001b[0;34m}\u001b[0m\u001b[0;34m\u001b[0m\u001b[0;34m\u001b[0m\u001b[0m\n\u001b[0;32m----> 2\u001b[0;31m \u001b[0mspam\u001b[0m\u001b[0;34m[\u001b[0m\u001b[0;34m'foo'\u001b[0m\u001b[0;34m]\u001b[0m\u001b[0;34m\u001b[0m\u001b[0;34m\u001b[0m\u001b[0m\n\u001b[0m",
            "\u001b[0;31mKeyError\u001b[0m: 'foo'"
          ]
        }
      ]
    },
    {
      "cell_type": "markdown",
      "source": [
        "5.If a dictionary is stored in spam, what is the difference between the expressions 'cat' in spam and 'cat' in spam.keys()?"
      ],
      "metadata": {
        "id": "fdTryAGUXIBS"
      }
    },
    {
      "cell_type": "code",
      "source": [
        "# there is no diffrence they both check if 'cat' is there in dictionary\n",
        "spam = {'cat':100}\n",
        "'cat' in spam"
      ],
      "metadata": {
        "id": "3DTTTvymWyHd",
        "colab": {
          "base_uri": "https://localhost:8080/"
        },
        "outputId": "1b85f2c3-11cc-4041-cf88-36354c928006"
      },
      "execution_count": 4,
      "outputs": [
        {
          "output_type": "execute_result",
          "data": {
            "text/plain": [
              "True"
            ]
          },
          "metadata": {},
          "execution_count": 4
        }
      ]
    },
    {
      "cell_type": "code",
      "source": [
        "'cat' in spam.keys()"
      ],
      "metadata": {
        "id": "gTcs9K19XStp",
        "colab": {
          "base_uri": "https://localhost:8080/"
        },
        "outputId": "2e9ac11c-3d38-46df-8d3a-39d21b6b6e74"
      },
      "execution_count": 5,
      "outputs": [
        {
          "output_type": "execute_result",
          "data": {
            "text/plain": [
              "True"
            ]
          },
          "metadata": {},
          "execution_count": 5
        }
      ]
    },
    {
      "cell_type": "markdown",
      "source": [
        "6.If a dictionary is stored in spam, what is the difference between the expressions 'cat' in spam and 'cat' in spam.values()?"
      ],
      "metadata": {
        "id": "Wv3pUWqJX0HG"
      }
    },
    {
      "cell_type": "code",
      "source": [
        "#'cat' in spam checks whether there is a 'cat' key in the dictionary\n",
        "#'cat' in spam.values() checks whether there is a value 'cat' for one of the keys in sp\n",
        "spam = {'cat':100}\n",
        "'cat' in spam"
      ],
      "metadata": {
        "id": "kzUhS9ysXba6",
        "colab": {
          "base_uri": "https://localhost:8080/"
        },
        "outputId": "b4cf66cb-f512-4aad-a3e1-a4711820d9ec"
      },
      "execution_count": 7,
      "outputs": [
        {
          "output_type": "execute_result",
          "data": {
            "text/plain": [
              "True"
            ]
          },
          "metadata": {},
          "execution_count": 7
        }
      ]
    },
    {
      "cell_type": "code",
      "source": [
        "'cat' in spam.values()"
      ],
      "metadata": {
        "id": "pDSmc88xX8kW",
        "colab": {
          "base_uri": "https://localhost:8080/"
        },
        "outputId": "dc3f60d2-8547-4aa3-9fb5-f4a6b923161e"
      },
      "execution_count": 8,
      "outputs": [
        {
          "output_type": "execute_result",
          "data": {
            "text/plain": [
              "False"
            ]
          },
          "metadata": {},
          "execution_count": 8
        }
      ]
    },
    {
      "cell_type": "markdown",
      "source": [
        "7.What is a shortcut for the following code?"
      ],
      "metadata": {
        "id": "QeB4fozgYgOa"
      }
    },
    {
      "cell_type": "code",
      "source": [
        "if 'color' not in spam:\n",
        "spam['color'] = 'black'"
      ],
      "metadata": {
        "id": "1C7vd5nsYCue"
      },
      "execution_count": null,
      "outputs": []
    },
    {
      "cell_type": "code",
      "source": [
        "spam ={'cat':100}\n",
        "spam.setdefault('color','black')\n",
        "spam\n"
      ],
      "metadata": {
        "id": "GECUg02NY5Uc",
        "colab": {
          "base_uri": "https://localhost:8080/"
        },
        "outputId": "378fd542-c255-4052-e28d-9a748acfb435"
      },
      "execution_count": 10,
      "outputs": [
        {
          "output_type": "execute_result",
          "data": {
            "text/plain": [
              "{'cat': 100, 'color': 'black'}"
            ]
          },
          "metadata": {},
          "execution_count": 10
        }
      ]
    },
    {
      "cell_type": "markdown",
      "source": [
        "8.How do you 'pretty print' dictionary values using which module and function?"
      ],
      "metadata": {
        "id": "-vua4Tn7ZsWS"
      }
    },
    {
      "cell_type": "code",
      "source": [
        "import pprint\n",
        "dct = [ {'Name': 'Shubham', 'Age': '25', 'Country': 'India'},\n",
        "  {'Name': 'Akansha', 'Age': '21', 'Country': 'India'},\n",
        "  {'Name': 'Joe', 'Age': '29', 'Country': 'UK'},\n",
        "  {'Name': 'Chumlee', 'Age': '35', 'Country': 'USA'}\n",
        "]"
      ],
      "metadata": {
        "id": "VNNNpj2mZpEC"
      },
      "execution_count": 11,
      "outputs": []
    },
    {
      "cell_type": "code",
      "source": [
        "pprint.pprint(dct)"
      ],
      "metadata": {
        "colab": {
          "base_uri": "https://localhost:8080/"
        },
        "id": "c2OUXFYPaKi1",
        "outputId": "a3055e28-4668-4091-c1e9-349dab068aea"
      },
      "execution_count": 12,
      "outputs": [
        {
          "output_type": "stream",
          "name": "stdout",
          "text": [
            "[{'Age': '25', 'Country': 'India', 'Name': 'Shubham'},\n",
            " {'Age': '21', 'Country': 'India', 'Name': 'Akansha'},\n",
            " {'Age': '29', 'Country': 'UK', 'Name': 'Joe'},\n",
            " {'Age': '35', 'Country': 'USA', 'Name': 'Chumlee'}]\n"
          ]
        }
      ]
    },
    {
      "cell_type": "code",
      "source": [
        "#Printing with print()\n",
        "print(dct)"
      ],
      "metadata": {
        "colab": {
          "base_uri": "https://localhost:8080/"
        },
        "id": "2m3Kc5NCaNat",
        "outputId": "f94c7429-a584-4219-dced-b453779ad878"
      },
      "execution_count": 15,
      "outputs": [
        {
          "output_type": "stream",
          "name": "stdout",
          "text": [
            "[{'Name': 'Shubham', 'Age': '25', 'Country': 'India'}, {'Name': 'Akansha', 'Age': '21', 'Country': 'India'}, {'Name': 'Joe', 'Age': '29', 'Country': 'UK'}, {'Name': 'Chumlee', 'Age': '35', 'Country': 'USA'}]\n"
          ]
        }
      ]
    },
    {
      "cell_type": "code",
      "source": [],
      "metadata": {
        "id": "KCFaOvlSaPnl"
      },
      "execution_count": null,
      "outputs": []
    }
  ]
}
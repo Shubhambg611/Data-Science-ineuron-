{
  "nbformat": 4,
  "nbformat_minor": 0,
  "metadata": {
    "colab": {
      "provenance": []
    },
    "kernelspec": {
      "name": "python3",
      "display_name": "Python 3"
    },
    "language_info": {
      "name": "python"
    }
  },
  "cells": [
    {
      "cell_type": "markdown",
      "source": [
        "1. What is a lambda function in Python, and how does it differ from a regular function?\n",
        "* Ans: Lambda function in pyhon is normally used for samll operations wich does not have many repaetative operations in it. in regulare operations we can use and do multiple repetative operations."
      ],
      "metadata": {
        "id": "ocEs1I60uq8I"
      }
    },
    {
      "cell_type": "markdown",
      "source": [
        "2. Can a lambda function in Python have multiple arguments? If yes, how can you define and use\n",
        "them?\n",
        "\n",
        "* Ans: Yes it can have multiple argument  we can definr then using commas in lambda function  "
      ],
      "metadata": {
        "id": "HyGUhjrcvYal"
      }
    },
    {
      "cell_type": "code",
      "execution_count": 1,
      "metadata": {
        "id": "FQFdR4wctQ7w",
        "colab": {
          "base_uri": "https://localhost:8080/"
        },
        "outputId": "7e5ed10a-6e75-462a-d3ea-43e31d478ef2"
      },
      "outputs": [
        {
          "output_type": "execute_result",
          "data": {
            "text/plain": [
              "5"
            ]
          },
          "metadata": {},
          "execution_count": 1
        }
      ],
      "source": [
        "add = lambda a,b:a+b\n",
        "result = add(2,3)\n",
        "result"
      ]
    },
    {
      "cell_type": "markdown",
      "source": [
        "3. How are lambda functions typically used in Python? Provide an example use case."
      ],
      "metadata": {
        "id": "BoFQJ1aZwVcp"
      }
    },
    {
      "cell_type": "code",
      "source": [
        "add = lambda a,b:a+b\n",
        "result = add(25,3)\n",
        "result"
      ],
      "metadata": {
        "colab": {
          "base_uri": "https://localhost:8080/"
        },
        "id": "0eKnOceGwLDf",
        "outputId": "db3ef78a-2266-46a9-ec13-67affc462635"
      },
      "execution_count": 2,
      "outputs": [
        {
          "output_type": "execute_result",
          "data": {
            "text/plain": [
              "28"
            ]
          },
          "metadata": {},
          "execution_count": 2
        }
      ]
    },
    {
      "cell_type": "markdown",
      "source": [
        "4. What are the advantages and limitations of lambda functions compared to regular functions in\n",
        "Python?"
      ],
      "metadata": {
        "id": "PIPvxZ9f8OC8"
      }
    },
    {
      "cell_type": "markdown",
      "source": [
        "* Advanrages ::\n",
        " * allow to write small, compact function reduce amount of code you need to write\n",
        " * lambda function are often used inline, elemenating the need for defining and naming function that are only used once\n",
        "\n",
        "* Limitations ::\n",
        " * it is restricted to a single expression and cannot cantain multiple statement or complex logic.\n",
        " * it reduce readablity when there are too complex or nested, making codde harder to read and understand."
      ],
      "metadata": {
        "id": "r1ujz3ZN8aCb"
      }
    },
    {
      "cell_type": "markdown",
      "source": [
        "5. Are lambda functions in Python able to access variables defined outside of their own scope?\n",
        "Explain with an example."
      ],
      "metadata": {
        "id": "UeSHUuYY_3FT"
      }
    },
    {
      "cell_type": "code",
      "source": [
        "# yes lambda function can access variable outside of there scope\n",
        "def outer_function():\n",
        "  x = 10\n",
        "  inner_lambda = lambda y: x + y\n",
        "\n",
        "  return inner_lambda\n",
        "\n",
        "lambda_funtion = outer_function()\n",
        "\n",
        "result = lambda_funtion(5)\n",
        "print(result)"
      ],
      "metadata": {
        "colab": {
          "base_uri": "https://localhost:8080/"
        },
        "id": "o6kmQaNL8IEv",
        "outputId": "80efdbb6-d55a-4a27-cedc-4ba7b5274fa8"
      },
      "execution_count": 3,
      "outputs": [
        {
          "output_type": "stream",
          "name": "stdout",
          "text": [
            "15\n"
          ]
        }
      ]
    },
    {
      "cell_type": "markdown",
      "source": [
        "6. Write a lambda function to calculate the square of a given number."
      ],
      "metadata": {
        "id": "qU5ZPLRWBZWL"
      }
    },
    {
      "cell_type": "code",
      "source": [
        "squr = lambda x: x ** 2\n",
        "squr(5)"
      ],
      "metadata": {
        "colab": {
          "base_uri": "https://localhost:8080/"
        },
        "id": "PCTax32OAimL",
        "outputId": "67ceb296-e51f-430f-f56c-fbd537576fb3"
      },
      "execution_count": 4,
      "outputs": [
        {
          "output_type": "execute_result",
          "data": {
            "text/plain": [
              "25"
            ]
          },
          "metadata": {},
          "execution_count": 4
        }
      ]
    },
    {
      "cell_type": "markdown",
      "source": [
        "7. Create a lambda function to find the maximum value in a list of integers."
      ],
      "metadata": {
        "id": "Xmaolf-ZCJQI"
      }
    },
    {
      "cell_type": "code",
      "source": [
        "max_num = lambda lst: max(lst)\n",
        "numbers = [5,8,7,9,4,3,5]\n",
        "great = max_num(numbers)\n",
        "print(great)"
      ],
      "metadata": {
        "colab": {
          "base_uri": "https://localhost:8080/"
        },
        "id": "cRREsISXDHnP",
        "outputId": "10354d47-c974-4190-ace6-1512e8519c12"
      },
      "execution_count": 5,
      "outputs": [
        {
          "output_type": "stream",
          "name": "stdout",
          "text": [
            "9\n"
          ]
        }
      ]
    },
    {
      "cell_type": "markdown",
      "source": [
        "8. Implement a lambda function to filter out all the even numbers from a list of integers."
      ],
      "metadata": {
        "id": "n7qAng66SXyE"
      }
    },
    {
      "cell_type": "code",
      "source": [
        "numbers = [1,2,3,4,5,6,7,8,9,10]\n",
        "even_num = list(filter(lambda x: x % 2 == 0,numbers))\n",
        "print(even_num)"
      ],
      "metadata": {
        "colab": {
          "base_uri": "https://localhost:8080/"
        },
        "id": "jXGgTv03SUI5",
        "outputId": "fe5a107d-5c10-43b1-946f-ca10091d099d"
      },
      "execution_count": 6,
      "outputs": [
        {
          "output_type": "stream",
          "name": "stdout",
          "text": [
            "[2, 4, 6, 8, 10]\n"
          ]
        }
      ]
    },
    {
      "cell_type": "markdown",
      "source": [
        "9. Write a lambda function to sort a list of strings in ascending order based on the length of each\n",
        "string."
      ],
      "metadata": {
        "id": "_g5Ydy01jnPP"
      }
    },
    {
      "cell_type": "code",
      "source": [
        "lst_str = [\"name\",\"hot\",\"cakes\",\"shubham\",\"ok\"]\n",
        "sort_str = sorted(lst_str, key=lambda s: len(s))\n",
        "print(sort_str)\n"
      ],
      "metadata": {
        "colab": {
          "base_uri": "https://localhost:8080/"
        },
        "id": "NQyvUtPeVJuf",
        "outputId": "06b1997f-15d3-4b52-f2ca-990fe1d55564"
      },
      "execution_count": 7,
      "outputs": [
        {
          "output_type": "stream",
          "name": "stdout",
          "text": [
            "['ok', 'hot', 'name', 'cakes', 'shubham']\n"
          ]
        }
      ]
    },
    {
      "cell_type": "markdown",
      "source": [
        "10.Create a lambda function that takes two lists as input and returns a new list containing the\n",
        "common elements between the two lists."
      ],
      "metadata": {
        "id": "-tFtwRqQjpbI"
      }
    },
    {
      "cell_type": "code",
      "source": [
        "x = [\"shubham\",\"raj\",\"pranit\",\"sanjay\"]\n",
        "y = [\"raj\",\"pranit\",\"niyam\",\"Adhikar\"]\n",
        "\n",
        "same = lambda x,y:list(set(x) & set(y))\n",
        "output = same(x,y)\n",
        "print(output)"
      ],
      "metadata": {
        "colab": {
          "base_uri": "https://localhost:8080/"
        },
        "id": "_pfqn1ASXlhJ",
        "outputId": "021c840c-29ac-49df-e277-4670f73ef4ce"
      },
      "execution_count": 8,
      "outputs": [
        {
          "output_type": "stream",
          "name": "stdout",
          "text": [
            "['pranit', 'raj']\n"
          ]
        }
      ]
    },
    {
      "cell_type": "markdown",
      "source": [
        "11. Write a recursive function to calculate the factorial of a given positive integer."
      ],
      "metadata": {
        "id": "vGae2PS4nffT"
      }
    },
    {
      "cell_type": "code",
      "source": [
        "def facto(x):\n",
        "  if x < 0:\n",
        "    return \"wrong number\"\n",
        "  elif x == 0 or x ==1:\n",
        "    return 1\n",
        "  else:\n",
        "    return (x) * facto(x-1)\n",
        "\n",
        "facto_result = facto(6)\n",
        "print(facto_result)"
      ],
      "metadata": {
        "colab": {
          "base_uri": "https://localhost:8080/"
        },
        "id": "YPC6mkWNgtRp",
        "outputId": "9e78aa41-dc60-46b3-97d6-e79eb7eef7e6"
      },
      "execution_count": 9,
      "outputs": [
        {
          "output_type": "stream",
          "name": "stdout",
          "text": [
            "720\n"
          ]
        }
      ]
    },
    {
      "cell_type": "markdown",
      "source": [
        "12. Implement a recursive function to compute the nth Fibonacci number."
      ],
      "metadata": {
        "id": "OZFIUSH2nlGk"
      }
    },
    {
      "cell_type": "code",
      "source": [
        "def febo(n):\n",
        "  if (n<=0):\n",
        "    return \"invalid\"\n",
        "\n",
        "  elif n == 1 or n == 2:\n",
        "    return 1\n",
        "  else:\n",
        "    return febo(n-2) + febo(n-1)\n",
        "\n",
        "res = febo(8)\n",
        "print(res)"
      ],
      "metadata": {
        "colab": {
          "base_uri": "https://localhost:8080/"
        },
        "id": "gAzC45bdmOgW",
        "outputId": "fc95ffde-aa6c-4aee-e62a-9b0e2cd1e109"
      },
      "execution_count": 10,
      "outputs": [
        {
          "output_type": "stream",
          "name": "stdout",
          "text": [
            "21\n"
          ]
        }
      ]
    },
    {
      "cell_type": "markdown",
      "source": [
        "13. Create a recursive function to find the sum of all the elements in a given list."
      ],
      "metadata": {
        "id": "yR-7b5bdq2Hr"
      }
    },
    {
      "cell_type": "code",
      "source": [
        "sum_list = [1, 2, 3, 4, 5, 6, 7, 8, 9, 10]\n",
        "\n",
        "def sum_num(i):\n",
        "    if i == 0:\n",
        "        return 0\n",
        "    else:\n",
        "        return sum_list[i-1] + sum_num(i-1)\n",
        "\n",
        "result = sum_num(len(sum_list))\n",
        "print(result)"
      ],
      "metadata": {
        "colab": {
          "base_uri": "https://localhost:8080/"
        },
        "id": "4WBRwhwCrXzb",
        "outputId": "f1c4b523-843d-4b5f-cee9-bad21e31fec3"
      },
      "execution_count": 15,
      "outputs": [
        {
          "output_type": "stream",
          "name": "stdout",
          "text": [
            "55\n"
          ]
        }
      ]
    },
    {
      "cell_type": "markdown",
      "source": [
        "14. Write a recursive function to determine whether a given string is a palindrome."
      ],
      "metadata": {
        "id": "OglVV-rxuEr3"
      }
    },
    {
      "cell_type": "code",
      "source": [
        "x = \"madam\"\n",
        "\n",
        "def palin(x):\n",
        "  if len(x) <= 1:\n",
        "    return True\n",
        "  elif x[0]!=x[-1]:\n",
        "    return False\n",
        "  else:\n",
        "    return palin(x[1:-1])\n",
        "\n",
        "result = palin(x)\n",
        "print(result)"
      ],
      "metadata": {
        "colab": {
          "base_uri": "https://localhost:8080/"
        },
        "id": "NJ1DpNButPwo",
        "outputId": "80dcd399-6265-4a7f-e37d-810e95f8402a"
      },
      "execution_count": 28,
      "outputs": [
        {
          "output_type": "stream",
          "name": "stdout",
          "text": [
            "True\n"
          ]
        }
      ]
    },
    {
      "cell_type": "markdown",
      "source": [
        "15. Implement a recursive function to find the greatest common divisor (GCD) of two positive integers."
      ],
      "metadata": {
        "id": "nesaEWsUwGEW"
      }
    },
    {
      "cell_type": "code",
      "source": [
        "def gcd(a, b):\n",
        "    if b == 0:\n",
        "        return a\n",
        "    else:\n",
        "        return gcd(b, a % b)\n",
        "result = gcd(24, 36)\n",
        "print(result)\n"
      ],
      "metadata": {
        "colab": {
          "base_uri": "https://localhost:8080/"
        },
        "id": "Oc4OEgLbvB5Y",
        "outputId": "e0dfbe40-217e-469a-a6f8-cb2b3bee6ce4"
      },
      "execution_count": 30,
      "outputs": [
        {
          "output_type": "stream",
          "name": "stdout",
          "text": [
            "12\n"
          ]
        }
      ]
    },
    {
      "cell_type": "code",
      "source": [],
      "metadata": {
        "id": "PADpHqyZwT3s"
      },
      "execution_count": null,
      "outputs": []
    }
  ]
}
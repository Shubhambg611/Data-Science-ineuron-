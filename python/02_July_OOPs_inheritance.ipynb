{
 "cells": [
  {
   "cell_type": "markdown",
   "metadata": {},
   "source": [
    "1. Explain what inheritance is in object-oriented programming and why it is used."
   ]
  },
  {
   "cell_type": "markdown",
   "metadata": {},
   "source": [
    "Inheritance is a fundamental concept in object-oriented programming (OOP) that allows a class (called the \"subclass\" or \"derived class\") to inherit properties and behaviors from another class (called the \"superclass\" or \"base class\"). This enables the creation of a hierarchy of classes, where a subclass can reuse and extend the features of its superclass. The relationship between the subclass and superclass is often referred to as an \"is-a\" relationship, indicating that an object of the subclass is a specialized type of object of the superclass."
   ]
  },
  {
   "cell_type": "code",
   "execution_count": 1,
   "metadata": {},
   "outputs": [
    {
     "name": "stdout",
     "output_type": "stream",
     "text": [
      "Buddy\n",
      "Woof!\n",
      "Whiskers\n",
      "Meow!\n"
     ]
    }
   ],
   "source": [
    "class Animal:\n",
    "    def __init__(self, name):\n",
    "        self.name = name\n",
    "\n",
    "    def speak(self):\n",
    "        pass  # This method will be overridden in subclasses\n",
    "\n",
    "class Dog(Animal):\n",
    "    def speak(self):\n",
    "        return \"Woof!\"\n",
    "\n",
    "class Cat(Animal):\n",
    "    def speak(self):\n",
    "        return \"Meow!\"\n",
    "\n",
    "# Usage\n",
    "dog = Dog(\"Buddy\")\n",
    "cat = Cat(\"Whiskers\")\n",
    "\n",
    "print(dog.name)      # Output: Buddy\n",
    "print(dog.speak())    # Output: Woof!\n",
    "\n",
    "print(cat.name)      # Output: Whiskers\n",
    "print(cat.speak())    # Output: Meow!\n"
   ]
  },
  {
   "cell_type": "markdown",
   "metadata": {},
   "source": [
    "2. Discuss the concept of single inheritance and multiple inheritance, highlighting their\n",
    "differences and advantages."
   ]
  },
  {
   "cell_type": "code",
   "execution_count": 2,
   "metadata": {},
   "outputs": [],
   "source": [
    "# single inheritance\n",
    "# Single Inheritance refers to the scenario where a class can inherit properties and behavior from only one parent class.\n",
    "# Each class can have only one direct superclass.\n",
    "\n",
    "class Animal:\n",
    "    def speak(self):\n",
    "        print(\"Animal speaks\")\n",
    "\n",
    "class Dog(Animal):\n",
    "    def bark(self):\n",
    "        print(\"Dog barks\")\n"
   ]
  },
  {
   "cell_type": "code",
   "execution_count": 3,
   "metadata": {},
   "outputs": [],
   "source": [
    "# Multiple Inheritance:\n",
    "# Multiple Inheritance allows a class to inherit properties and behavior from more than one parent class.\n",
    "# A class can have multiple direct superclasses.\n",
    "\n",
    "class Animal:\n",
    "    def speak(self):\n",
    "        print(\"Animal speaks\")\n",
    "\n",
    "class Mammal:\n",
    "    def give_birth(self):\n",
    "        print(\"Mammal gives birth\")\n",
    "\n",
    "class Dog(Animal, Mammal):\n",
    "    def bark(self):\n",
    "        print(\"Dog barks\")\n"
   ]
  },
  {
   "cell_type": "markdown",
   "metadata": {},
   "source": [
    "Q3. Explain the terms \"base class\" and \"derived class\" in the context of inheritance.\n",
    "\n",
    "Ans. \n",
    "In the context of inheritance in object-oriented programming (OOP), the terms \"base class\" and \"derived class\" refer to the relationship between two classes, where one class serves as a foundation for another. This relationship is fundamental to the concept of inheritance, where a derived class inherits properties and behaviors from a base class.\n",
    "\n",
    "1. Base Class:\n",
    "The base class, also known as the parent class or superclass, is the class that provides the fundamental properties and behaviors to be inherited by one or more other classes.\n",
    "\n",
    "2. Derived Class:\n",
    "The derived class, also known as the child class or subclass, is the class that inherits properties and behaviors from a base class.\n",
    "\n"
   ]
  },
  {
   "cell_type": "markdown",
   "metadata": {},
   "source": [
    "Q4. What is the significance of the \"protected\" access modifier in inheritance? How does\n",
    "it differ from \"private\" and \"public\" modifiers?\n",
    "\n",
    "Ans. In object-oriented programming, access modifiers are keywords that define the visibility and accessibility of class members (fields, methods, nested classes) within a class hierarchy. Inheritance is a fundamental concept in OOP, and access modifiers play a crucial role in determining how members of a class are inherited by its subclasses. The three main access modifiers are \"public,\" \"protected,\" and \"private.\"\n",
    "\n",
    "\n",
    "1. Public: Accessible from anywhere, including outside the class and in subclasses.\n",
    "\n",
    "2. Private: Accessible only within the class where they are defined, not accessible by subclasses.\n",
    "\n",
    "3. Protected: Accessible within the class and its subclasses, but not accessible from outside.\n",
    "\n"
   ]
  },
  {
   "cell_type": "markdown",
   "metadata": {},
   "source": [
    "Q5. What is the purpose of the \"super\" keyword in inheritance? Provide an example.\n",
    "\n",
    "Ans. The super keyword in object-oriented programming languages, such as Java and Python, is used to refer to the superclass or parent class. It is often used within a subclass to call methods, access fields, or invoke the constructor of the superclass. The primary purpose of super is to facilitate the reuse of code and provide a way to extend the functionality of the superclass in the subclass."
   ]
  },
  {
   "cell_type": "code",
   "execution_count": 7,
   "metadata": {},
   "outputs": [
    {
     "name": "stdout",
     "output_type": "stream",
     "text": [
      "Animal is eating.\n",
      "Dog is eating.\n",
      "Dog is barking.\n"
     ]
    }
   ],
   "source": [
    "class Animal:\n",
    "    def eat(self):\n",
    "        print(\"Animal is eating.\")\n",
    "\n",
    "class Dog(Animal):\n",
    "    def eat(self):\n",
    "        super().eat()  # Calling the eat() method of the superclass\n",
    "        print(\"Dog is eating.\")\n",
    "\n",
    "    def bark(self):\n",
    "        print(\"Dog is barking.\")\n",
    "\n",
    "if __name__ == \"__main__\":\n",
    "    my_dog = Dog()\n",
    "    my_dog.eat()  # Calls the overridden eat() method in Dog class\n",
    "    my_dog.bark()  # Calls the bark() method in Dog class\n",
    "\n"
   ]
  },
  {
   "cell_type": "markdown",
   "metadata": {},
   "source": [
    "Q6. Create a base class called \"Vehicle\" with attributes like \"make\", \"model\", and \"year\".\n",
    "Then, create a derived class called \"Car\" that inherits from \"Vehicle\" and adds an\n",
    "attribute called \"fuel_type\". Implement appropriate methods in both classes."
   ]
  },
  {
   "cell_type": "code",
   "execution_count": 8,
   "metadata": {},
   "outputs": [
    {
     "name": "stdout",
     "output_type": "stream",
     "text": [
      "Make: Toyota, Model: Camry, Year: 2022\n",
      "Fuel Type: Gasoline\n"
     ]
    }
   ],
   "source": [
    "class Vehicle:\n",
    "    def __init__(self, make, model, year):\n",
    "        self.make = make\n",
    "        self.model = model\n",
    "        self.year = year\n",
    "\n",
    "    def display_info(self):\n",
    "        print(f\"Make: {self.make}, Model: {self.model}, Year: {self.year}\")\n",
    "\n",
    "\n",
    "class Car(Vehicle):\n",
    "    def __init__(self, make, model, year, fuel_type):\n",
    "        # Call the constructor of the base class (Vehicle)\n",
    "        super().__init__(make, model, year)\n",
    "        self.fuel_type = fuel_type\n",
    "\n",
    "    def display_info(self):\n",
    "        # Call the display_info method of the base class (Vehicle)\n",
    "        super().display_info()\n",
    "        print(f\"Fuel Type: {self.fuel_type}\")\n",
    "\n",
    "\n",
    "# Example usage:\n",
    "if __name__ == \"__main__\":\n",
    "    # Create an instance of the Car class\n",
    "    my_car = Car(make=\"Toyota\", model=\"Camry\", year=2022, fuel_type=\"Gasoline\")\n",
    "\n",
    "    # Call the display_info method of the Car class\n",
    "    my_car.display_info()\n"
   ]
  },
  {
   "cell_type": "markdown",
   "metadata": {},
   "source": [
    "7. Create a base class called \"Employee\" with attributes like \"name\" and \"salary.\"\n",
    "Derive two classes, \"Manager\" and \"Developer,\" from \"Employee.\" Add an additional\n",
    "attribute called \"department\" for the \"Manager\" class and \"programming_language\"\n",
    "for the \"Developer\" class."
   ]
  },
  {
   "cell_type": "code",
   "execution_count": 9,
   "metadata": {},
   "outputs": [
    {
     "name": "stdout",
     "output_type": "stream",
     "text": [
      "Name: John Doe, Salary: 80000\n",
      "Department: IT\n",
      "Name: Jane Smith, Salary: 70000\n",
      "Programming Language: Python\n"
     ]
    }
   ],
   "source": [
    "class Employee:\n",
    "    def __init__(self, name, salary):\n",
    "        self.name = name\n",
    "        self.salary = salary\n",
    "\n",
    "    def display_info(self):\n",
    "        print(f\"Name: {self.name}, Salary: {self.salary}\")\n",
    "\n",
    "\n",
    "class Manager(Employee):\n",
    "    def __init__(self, name, salary, department):\n",
    "        # Call the constructor of the base class (Employee)\n",
    "        super().__init__(name, salary)\n",
    "        self.department = department\n",
    "\n",
    "    def display_info(self):\n",
    "        # Call the display_info method of the base class (Employee)\n",
    "        super().display_info()\n",
    "        print(f\"Department: {self.department}\")\n",
    "\n",
    "\n",
    "class Developer(Employee):\n",
    "    def __init__(self, name, salary, programming_language):\n",
    "        # Call the constructor of the base class (Employee)\n",
    "        super().__init__(name, salary)\n",
    "        self.programming_language = programming_language\n",
    "\n",
    "    def display_info(self):\n",
    "        # Call the display_info method of the base class (Employee)\n",
    "        super().display_info()\n",
    "        print(f\"Programming Language: {self.programming_language}\")\n",
    "\n",
    "\n",
    "# Example usage:\n",
    "if __name__ == \"__main__\":\n",
    "    # Create instances of the Manager and Developer classes\n",
    "    manager = Manager(name=\"John Doe\", salary=80000, department=\"IT\")\n",
    "    developer = Developer(name=\"Jane Smith\", salary=70000, programming_language=\"Python\")\n",
    "\n",
    "    # Call the display_info method for both instances\n",
    "    manager.display_info()\n",
    "    developer.display_info()\n"
   ]
  },
  {
   "cell_type": "markdown",
   "metadata": {},
   "source": [
    "Q8. Design a base class called \"Shape\" with attributes like \"colour\" and \"border_width.\"\n",
    "Create derived classes, \"Rectangle\" and \"Circle,\" that inherit from \"Shape\" and add\n",
    "specific attributes like \"length\" and \"width\" for the \"Rectangle\" class and \"radius\" for\n",
    "the \"Circle\" class."
   ]
  },
  {
   "cell_type": "code",
   "execution_count": 10,
   "metadata": {},
   "outputs": [
    {
     "name": "stdout",
     "output_type": "stream",
     "text": [
      "Colour: Red, Border Width: 2\n",
      "Length: 5, Width: 3\n",
      "Colour: Blue, Border Width: 1\n",
      "Radius: 4\n"
     ]
    }
   ],
   "source": [
    "class Shape:\n",
    "    def __init__(self, colour, border_width):\n",
    "        self.colour = colour\n",
    "        self.border_width = border_width\n",
    "\n",
    "    def display_info(self):\n",
    "        print(f\"Colour: {self.colour}, Border Width: {self.border_width}\")\n",
    "\n",
    "\n",
    "class Rectangle(Shape):\n",
    "    def __init__(self, colour, border_width, length, width):\n",
    "        # Call the constructor of the base class (Shape)\n",
    "        super().__init__(colour, border_width)\n",
    "        self.length = length\n",
    "        self.width = width\n",
    "\n",
    "    def display_info(self):\n",
    "        # Call the display_info method of the base class (Shape)\n",
    "        super().display_info()\n",
    "        print(f\"Length: {self.length}, Width: {self.width}\")\n",
    "\n",
    "\n",
    "class Circle(Shape):\n",
    "    def __init__(self, colour, border_width, radius):\n",
    "        # Call the constructor of the base class (Shape)\n",
    "        super().__init__(colour, border_width)\n",
    "        self.radius = radius\n",
    "\n",
    "    def display_info(self):\n",
    "        # Call the display_info method of the base class (Shape)\n",
    "        super().display_info()\n",
    "        print(f\"Radius: {self.radius}\")\n",
    "\n",
    "\n",
    "# Example usage:\n",
    "if __name__ == \"__main__\":\n",
    "    # Create instances of the Rectangle and Circle classes\n",
    "    rectangle = Rectangle(colour=\"Red\", border_width=2, length=5, width=3)\n",
    "    circle = Circle(colour=\"Blue\", border_width=1, radius=4)\n",
    "\n",
    "    # Call the display_info method for both instances\n",
    "    rectangle.display_info()\n",
    "    circle.display_info()\n"
   ]
  },
  {
   "cell_type": "markdown",
   "metadata": {},
   "source": [
    "9. Create a base class called \"Device\" with attributes like \"brand\" and \"model.\" Derive\n",
    "two classes, \"Phone\" and \"Tablet,\" from \"Device.\" Add specific attributes like\n",
    "\"screen_size\" for the \"Phone\" class and \"battery_capacity\" for the \"Tablet\" class."
   ]
  },
  {
   "cell_type": "code",
   "execution_count": 11,
   "metadata": {},
   "outputs": [
    {
     "name": "stdout",
     "output_type": "stream",
     "text": [
      "Phone: Apple iPhone 13, Screen Size: 6.1 inches\n",
      "Tablet: Samsung Galaxy Tab S7, Battery Capacity: 8000 mAh\n"
     ]
    }
   ],
   "source": [
    "class Device:\n",
    "    def __init__(self, brand, model):\n",
    "        self.brand = brand\n",
    "        self.model = model\n",
    "\n",
    "class Phone(Device):\n",
    "    def __init__(self, brand, model, screen_size):\n",
    "        super().__init__(brand, model)\n",
    "        self.screen_size = screen_size\n",
    "\n",
    "class Tablet(Device):\n",
    "    def __init__(self, brand, model, battery_capacity):\n",
    "        super().__init__(brand, model)\n",
    "        self.battery_capacity = battery_capacity\n",
    "\n",
    "# Example usage:\n",
    "phone = Phone(\"Apple\", \"iPhone 13\", \"6.1 inches\")\n",
    "tablet = Tablet(\"Samsung\", \"Galaxy Tab S7\", \"8000 mAh\")\n",
    "\n",
    "print(f\"Phone: {phone.brand} {phone.model}, Screen Size: {phone.screen_size}\")\n",
    "print(f\"Tablet: {tablet.brand} {tablet.model}, Battery Capacity: {tablet.battery_capacity}\")\n"
   ]
  },
  {
   "cell_type": "markdown",
   "metadata": {},
   "source": [
    "Q10. Create a base class called \"BankAccount\" with attributes like \"account_number\" and\n",
    "\"balance.\" Derive two classes, \"SavingsAccount\" and \"CheckingAccount,\" from\n",
    "\"BankAccount.\" Add specific methods like \"calculate_interest\" for the\n",
    "\"SavingsAccount\" class and \"deduct_fees\" for the \"CheckingAccount\" class."
   ]
  },
  {
   "cell_type": "code",
   "execution_count": 12,
   "metadata": {},
   "outputs": [
    {
     "name": "stdout",
     "output_type": "stream",
     "text": [
      "Savings Account Balance: $1000\n",
      "Interest Earned: $20.0\n",
      "Updated Savings Account Balance: $1020.0\n",
      "\n",
      "\n",
      "Checking Account Balance: $1500\n",
      "Fee Deducted: $10\n",
      "Updated Checking Account Balance: $1490\n"
     ]
    }
   ],
   "source": [
    "class BankAccount:\n",
    "    def __init__(self, account_number, balance):\n",
    "        self.account_number = account_number\n",
    "        self.balance = balance\n",
    "\n",
    "class SavingsAccount(BankAccount):\n",
    "    def __init__(self, account_number, balance, interest_rate):\n",
    "        super().__init__(account_number, balance)\n",
    "        self.interest_rate = interest_rate\n",
    "\n",
    "    def calculate_interest(self):\n",
    "        interest = self.balance * (self.interest_rate / 100)\n",
    "        self.balance += interest\n",
    "        return interest\n",
    "\n",
    "class CheckingAccount(BankAccount):\n",
    "    def __init__(self, account_number, balance, fee):\n",
    "        super().__init__(account_number, balance)\n",
    "        self.fee = fee\n",
    "\n",
    "    def deduct_fees(self):\n",
    "        self.balance -= self.fee\n",
    "        return self.fee\n",
    "\n",
    "# Example usage:\n",
    "savings_account = SavingsAccount(account_number=\"SA123\", balance=1000, interest_rate=2)\n",
    "checking_account = CheckingAccount(account_number=\"CA456\", balance=1500, fee=10)\n",
    "\n",
    "print(f\"Savings Account Balance: ${savings_account.balance}\")\n",
    "interest_earned = savings_account.calculate_interest()\n",
    "print(f\"Interest Earned: ${interest_earned}\")\n",
    "print(f\"Updated Savings Account Balance: ${savings_account.balance}\")\n",
    "\n",
    "print(\"\\n\")\n",
    "\n",
    "print(f\"Checking Account Balance: ${checking_account.balance}\")\n",
    "fee_deducted = checking_account.deduct_fees()\n",
    "print(f\"Fee Deducted: ${fee_deducted}\")\n",
    "print(f\"Updated Checking Account Balance: ${checking_account.balance}\")\n"
   ]
  }
 ],
 "metadata": {
  "kernelspec": {
   "display_name": "venv2",
   "language": "python",
   "name": "python3"
  },
  "language_info": {
   "codemirror_mode": {
    "name": "ipython",
    "version": 3
   },
   "file_extension": ".py",
   "mimetype": "text/x-python",
   "name": "python",
   "nbconvert_exporter": "python",
   "pygments_lexer": "ipython3",
   "version": "3.9.18"
  }
 },
 "nbformat": 4,
 "nbformat_minor": 2
}

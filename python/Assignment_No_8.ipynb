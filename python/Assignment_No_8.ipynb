{
  "nbformat": 4,
  "nbformat_minor": 0,
  "metadata": {
    "colab": {
      "provenance": []
    },
    "kernelspec": {
      "name": "python3",
      "display_name": "Python 3"
    },
    "language_info": {
      "name": "python"
    }
  },
  "cells": [
    {
      "cell_type": "markdown",
      "source": [
        "1.In Python, what is the difference between a built-in function and a user-defined function? Provide an\n",
        "example of each."
      ],
      "metadata": {
        "id": "VmTSA5XSm6DG"
      }
    },
    {
      "cell_type": "markdown",
      "source": [
        "*  built-in functions are pre-existing functions provided by the programming language, while user-defined functions are created by the programmer to perform specific tasks. Built-in functions are readily available and cover a wide range of common operations, while user-defined functions offer flexibility and modularity in the code."
      ],
      "metadata": {
        "id": "7zlXsMainHR2"
      }
    },
    {
      "cell_type": "code",
      "execution_count": 2,
      "metadata": {
        "colab": {
          "base_uri": "https://localhost:8080/"
        },
        "id": "BFb7CiL1m1D1",
        "outputId": "03db74ef-85f6-4bb2-c19e-dd3e215b1f4e"
      },
      "outputs": [
        {
          "output_type": "stream",
          "name": "stdout",
          "text": [
            "13\n"
          ]
        }
      ],
      "source": [
        "# built in function\n",
        "string = \"Hello, World!\"\n",
        "length = len(string)\n",
        "print(length)"
      ]
    },
    {
      "cell_type": "code",
      "source": [
        "# user-defined\n",
        "def calculate_area(length, width):\n",
        "    area = length * width\n",
        "    return area\n",
        "rectangle_length = 5\n",
        "rectangle_width = 3\n",
        "result = calculate_area(rectangle_length, rectangle_width)\n",
        "print(result)"
      ],
      "metadata": {
        "colab": {
          "base_uri": "https://localhost:8080/"
        },
        "id": "ODw8Kylym3lz",
        "outputId": "2a3116dd-3adf-4c7f-c2db-d5a6cc7f3e03"
      },
      "execution_count": 3,
      "outputs": [
        {
          "output_type": "stream",
          "name": "stdout",
          "text": [
            "15\n"
          ]
        }
      ]
    },
    {
      "cell_type": "markdown",
      "source": [
        "2. How can you pass arguments to a function in Python? Explain the difference between positional\n",
        "arguments and keyword arguments.\n",
        "\n",
        "* Positional Arguments: Arguments are passed based on their position or order in the function call.\n",
        "\n",
        "* Keyword Arguments: Arguments are passed as name-value pairs, allowing you to specify values for specific parameters."
      ],
      "metadata": {
        "id": "biKedV7zK1GJ"
      }
    },
    {
      "cell_type": "code",
      "source": [
        "def my_function(arg1, arg2):\n",
        "  sum = arg1 + arg2\n",
        "  print(sum)\n",
        "\n",
        "\n",
        "my_function(56,2)"
      ],
      "metadata": {
        "colab": {
          "base_uri": "https://localhost:8080/"
        },
        "id": "5xw642wConI8",
        "outputId": "32d9c8b3-d957-494d-d095-a666162f0d8b"
      },
      "execution_count": 6,
      "outputs": [
        {
          "output_type": "stream",
          "name": "stdout",
          "text": [
            "58\n"
          ]
        }
      ]
    },
    {
      "cell_type": "code",
      "source": [
        "def my_function(arg1, arg2):\n",
        "  sum = arg1 + arg2\n",
        "  print(sum)\n",
        "\n",
        "my_function(arg1=5, arg2=7)\n"
      ],
      "metadata": {
        "colab": {
          "base_uri": "https://localhost:8080/"
        },
        "id": "EFOLfM0tLkNP",
        "outputId": "1ec23709-7c89-481f-ffd0-38e5fa5e0f51"
      },
      "execution_count": 8,
      "outputs": [
        {
          "output_type": "stream",
          "name": "stdout",
          "text": [
            "12\n"
          ]
        }
      ]
    },
    {
      "cell_type": "markdown",
      "source": [
        "3. What is the purpose of the return statement in a function? Can a function have multiple return\n",
        "statements? Explain with an example.\n",
        "* Ans:\n",
        "The purpose of the return statement in a function is to specify the value that the function should return to the caller. When a return statement is encountered in a function, it immediately exits the function and provides the specified value as the result of the function call."
      ],
      "metadata": {
        "id": "1P0JAmBJNDeF"
      }
    },
    {
      "cell_type": "code",
      "source": [
        "def get_grade(score):\n",
        "    if score >= 90:\n",
        "        return \"A\"\n",
        "    elif score >= 80:\n",
        "        return \"B\"\n",
        "    elif score >= 70:\n",
        "        return \"C\"\n",
        "    elif score >= 60:\n",
        "        return \"D\"\n",
        "    else:\n",
        "        return \"F\"\n",
        "\n",
        "student_score = int(input(\"Enter score: \"))\n",
        "grade = get_grade(student_score)\n",
        "print(\"Grade:\", grade)\n"
      ],
      "metadata": {
        "colab": {
          "base_uri": "https://localhost:8080/"
        },
        "id": "UocsoY-mM5QA",
        "outputId": "c91e4edb-cb55-4873-aa75-5ce6c75a5a14"
      },
      "execution_count": 11,
      "outputs": [
        {
          "output_type": "stream",
          "name": "stdout",
          "text": [
            "Enter score: 98\n",
            "Grade: A\n"
          ]
        }
      ]
    },
    {
      "cell_type": "markdown",
      "source": [
        "4.What are lambda functions in Python? How are they different from regular functions? Provide an\n",
        "example where a lambda function can be useful.\n",
        "* lambda function used for npt very high operations it is used for small operations which does not have much repetative operations"
      ],
      "metadata": {
        "id": "I_FKAV27OFim"
      }
    },
    {
      "cell_type": "code",
      "source": [
        "add = lambda x,y:x+y\n",
        "print(add(5,3))"
      ],
      "metadata": {
        "colab": {
          "base_uri": "https://localhost:8080/"
        },
        "id": "6X4bnHy8NrZ1",
        "outputId": "26a23dc9-396c-411e-d6e5-d9333a469795"
      },
      "execution_count": 12,
      "outputs": [
        {
          "output_type": "stream",
          "name": "stdout",
          "text": [
            "8\n"
          ]
        }
      ]
    },
    {
      "cell_type": "markdown",
      "source": [
        "5. How does the concept of \"scope\" apply to functions in Python? Explain the difference between local scope and global scope.\n",
        "* Ans:\n",
        " * Local Scope : it refers as functions scope refers to variable that are defined within a specific function . this are accessable within function in which they are defined.\n",
        " * Global scope refers to variables that are defined outside of any function, typically at the top level of a module. These variables are accessible from anywhere within the module, including within functions."
      ],
      "metadata": {
        "id": "JjfqvfRzbiBV"
      }
    },
    {
      "cell_type": "code",
      "source": [
        "def my_function():\n",
        "    x = 10\n",
        "    print(x)\n",
        "\n",
        "my_function()"
      ],
      "metadata": {
        "colab": {
          "base_uri": "https://localhost:8080/"
        },
        "id": "igW-gndzbeWn",
        "outputId": "52905926-09b6-4f34-a809-160fa6118387"
      },
      "execution_count": 14,
      "outputs": [
        {
          "output_type": "stream",
          "name": "stdout",
          "text": [
            "10\n"
          ]
        }
      ]
    },
    {
      "cell_type": "code",
      "source": [
        "x = 10  # Global variable\n",
        "\n",
        "def my_function():\n",
        "    print(x)\n",
        "\n",
        "my_function()\n"
      ],
      "metadata": {
        "colab": {
          "base_uri": "https://localhost:8080/"
        },
        "id": "1BxrtbK3eGyB",
        "outputId": "aeaa7077-3b85-4dfc-9158-405689bb87ac"
      },
      "execution_count": 17,
      "outputs": [
        {
          "output_type": "stream",
          "name": "stdout",
          "text": [
            "10\n"
          ]
        }
      ]
    },
    {
      "cell_type": "markdown",
      "source": [
        "6. How can you use the \"return\" statement in a Python function to return multiple values?"
      ],
      "metadata": {
        "id": "AMYpweI_egm-"
      }
    },
    {
      "cell_type": "code",
      "source": [
        "def get_values():\n",
        "    a = 10\n",
        "    b = 20\n",
        "    c = 30\n",
        "    return a, b, c\n",
        "\n",
        "result = get_values()\n",
        "print(result)"
      ],
      "metadata": {
        "colab": {
          "base_uri": "https://localhost:8080/"
        },
        "id": "h0qdkJrPeRkj",
        "outputId": "1590eec8-4b44-4186-ed90-34f17716ea46"
      },
      "execution_count": 19,
      "outputs": [
        {
          "output_type": "stream",
          "name": "stdout",
          "text": [
            "(10, 20, 30)\n"
          ]
        }
      ]
    },
    {
      "cell_type": "markdown",
      "source": [
        "7. What is the difference between the \"pass by value\" and \"pass by reference\" concepts when it\n",
        "comes to function arguments in Python?"
      ],
      "metadata": {
        "id": "3bU0SYlShRJZ"
      }
    },
    {
      "cell_type": "markdown",
      "source": [
        "* When you give function parameters via reference, you're just passing references to values that already exist. When you pass arguments by value, on the other hand, the arguments become independent copies of the original values."
      ],
      "metadata": {
        "id": "7Ec6hqNW5sI_"
      }
    },
    {
      "cell_type": "markdown",
      "source": [
        "8. 8. Create a function that can intake integer or decimal value and do following operations:\n",
        "* a. Logarithmic function (log x)\n",
        "* b. Exponential function (exp(x))\n",
        "* c. Power function with base 2 (2x)\n",
        "* d. Square root"
      ],
      "metadata": {
        "id": "CILfRnOA6SGy"
      }
    },
    {
      "cell_type": "code",
      "source": [
        "import math\n",
        "\n",
        "def math_operations(value):\n",
        "    result = {\n",
        "        \"logarithm\": math.log(value),\n",
        "        \"exponential\": math.exp(value),\n",
        "        \"power\": math.pow(2, value),\n",
        "        \"square_root\": math.sqrt(value)\n",
        "    }\n",
        "    return result\n",
        "\n",
        "input_value = 3\n",
        "operations_result = math_operations(input_value)\n",
        "print(operations_result)\n"
      ],
      "metadata": {
        "colab": {
          "base_uri": "https://localhost:8080/"
        },
        "id": "P6bwtI2lesuO",
        "outputId": "a08c1e4a-be94-4246-8f80-58989a50968a"
      },
      "execution_count": 9,
      "outputs": [
        {
          "output_type": "stream",
          "name": "stdout",
          "text": [
            "{'logarithm': 1.0986122886681098, 'exponential': 20.085536923187668, 'power': 8.0, 'square_root': 1.7320508075688772}\n"
          ]
        }
      ]
    },
    {
      "cell_type": "markdown",
      "source": [
        "9. Create a function that takes a full name as an argument and returns first name and last name."
      ],
      "metadata": {
        "id": "qPhw8kR6Bpqo"
      }
    },
    {
      "cell_type": "code",
      "source": [
        "def get_first_last_name(full_name):\n",
        "    names = full_name.split()\n",
        "    first_name = names[0]\n",
        "    last_name = names[-1]\n",
        "    return first_name, last_name\n",
        "\n",
        "name = \"Shubham Gadhave\"\n",
        "first_name, last_name = get_first_last_name(name)\n",
        "print(\"First name:\", first_name)\n",
        "print(\"Last name:\", last_name)\n"
      ],
      "metadata": {
        "colab": {
          "base_uri": "https://localhost:8080/"
        },
        "id": "LrkxnmS872xY",
        "outputId": "004ddc91-07ba-4390-8508-cbb42b576c1c"
      },
      "execution_count": 10,
      "outputs": [
        {
          "output_type": "stream",
          "name": "stdout",
          "text": [
            "First name: Shubham\n",
            "Last name: Gadhave\n"
          ]
        }
      ]
    }
  ]
}
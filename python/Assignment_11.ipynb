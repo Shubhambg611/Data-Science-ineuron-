{
  "nbformat": 4,
  "nbformat_minor": 0,
  "metadata": {
    "colab": {
      "provenance": []
    },
    "kernelspec": {
      "name": "python3",
      "display_name": "Python 3"
    },
    "language_info": {
      "name": "python"
    }
  },
  "cells": [
    {
      "cell_type": "markdown",
      "source": [
        "## 1.What is the role of the 'else' block in a try-except statement? Provide an example\n",
        "scenario where it would be useful.\n",
        "*\n",
        "In a try-except statement, the 'else' block is an optional part that can be included after the 'try' and 'except' blocks. It is executed only if no exception is raised within the 'try' block."
      ],
      "metadata": {
        "id": "lUgn3O7o3tsU"
      }
    },
    {
      "cell_type": "code",
      "execution_count": null,
      "metadata": {
        "colab": {
          "base_uri": "https://localhost:8080/"
        },
        "id": "M_gyFgJE3Fri",
        "outputId": "62219709-e7d3-4701-c82a-3932942c4b85"
      },
      "outputs": [
        {
          "output_type": "stream",
          "name": "stdout",
          "text": [
            "Enter the numerator: 900\n",
            "Enter the denominator: 6\n",
            "The division result is: 150.0\n"
          ]
        }
      ],
      "source": [
        "try:\n",
        "    numerator = int(input(\"Enter the numerator: \"))\n",
        "    denominator = int(input(\"Enter the denominator: \"))\n",
        "    result = numerator / denominator\n",
        "except ValueError:\n",
        "    print(\"Invalid input. Please enter numeric values.\")\n",
        "except ZeroDivisionError:\n",
        "    print(\"Cannot divide by zero.\")\n",
        "else:\n",
        "    print(\"The division result is:\", result)\n"
      ]
    },
    {
      "cell_type": "markdown",
      "source": [
        "# 2. Can a try-except block be nested inside another try-except block? Explain with an\n",
        "## example."
      ],
      "metadata": {
        "id": "LebIejus5DNw"
      }
    },
    {
      "cell_type": "code",
      "source": [
        "try:\n",
        "    # Outer try block\n",
        "    numerator = int(input(\"Enter the numerator: \"))\n",
        "    denominator = int(input(\"Enter the denominator: \"))\n",
        "\n",
        "    try:\n",
        "        # Inner try block\n",
        "        result = numerator / denominator\n",
        "        print(\"The division result is:\", result)\n",
        "    except ZeroDivisionError:\n",
        "        print(\"Cannot divide by zero.\")\n",
        "except ValueError:\n",
        "    print(\"Invalid input. Please enter numeric values.\")\n",
        "\n"
      ],
      "metadata": {
        "colab": {
          "base_uri": "https://localhost:8080/"
        },
        "id": "YuZSr_MQ4XPI",
        "outputId": "a61ca755-2aee-4572-ca42-bf5b9bf72f77"
      },
      "execution_count": null,
      "outputs": [
        {
          "output_type": "stream",
          "name": "stdout",
          "text": [
            "Enter the numerator: 1651\n",
            "Enter the denominator: 0\n",
            "Cannot divide by zero.\n"
          ]
        }
      ]
    },
    {
      "cell_type": "markdown",
      "source": [
        "# 3. How can you create a custom exception class in Python? Provide an example that\n",
        "# demonstrates its usage.\n",
        "\n",
        "* Ans:"
      ],
      "metadata": {
        "id": "BbYJNTbV-2YI"
      }
    },
    {
      "cell_type": "code",
      "source": [
        "class WrongAge(Exception):\n",
        "  print(\"Raise when the inpute is less than 18\")\n",
        "pass"
      ],
      "metadata": {
        "colab": {
          "base_uri": "https://localhost:8080/"
        },
        "id": "QQqi-oUv-v3z",
        "outputId": "152fd5a2-b68c-485c-83f2-84b695b283b6"
      },
      "execution_count": null,
      "outputs": [
        {
          "output_type": "stream",
          "name": "stdout",
          "text": [
            "Raise when the inpute is less than 18\n"
          ]
        }
      ]
    },
    {
      "cell_type": "code",
      "source": [
        "try:\n",
        "  input_age = int(input(\"enter a age\"))\n",
        "  if input_age<18:\n",
        "    raise WrongAge\n",
        "  else:\n",
        "    print(\"you can vote\")\n",
        "except(WrongAge):\n",
        "  print(\"you cannot vote at this age\")"
      ],
      "metadata": {
        "colab": {
          "base_uri": "https://localhost:8080/"
        },
        "id": "6AockZQ3OinZ",
        "outputId": "efcbb2fe-62c9-45e5-997c-239198e1d6a5"
      },
      "execution_count": null,
      "outputs": [
        {
          "output_type": "stream",
          "name": "stdout",
          "text": [
            "enter a age19\n",
            "you can vote\n"
          ]
        }
      ]
    },
    {
      "cell_type": "markdown",
      "source": [
        "## 4. What are some common exceptions that are built-in to Python?"
      ],
      "metadata": {
        "id": "eYMab21TWrJm"
      }
    },
    {
      "cell_type": "markdown",
      "source": [
        "* Exception: The base class for all exceptions in Python.\n",
        "SyntaxError: Raised when there is a syntax error in the code.\n",
        "* IndentationError: Raised when there is an indentation-related syntax error.\n",
        "* NameError: Raised when a local or global name is not found.\n",
        "* TypeError: Raised when an operation or function is applied to an object of an inappropriate type.\n",
        "* ValueError: Raised when a function receives an argument of the correct type but an inappropriate value.\n"
      ],
      "metadata": {
        "id": "uqqNcpTxXBbU"
      }
    },
    {
      "cell_type": "markdown",
      "source": [
        "## 5. What is logging in Python, and why is it important in software development?"
      ],
      "metadata": {
        "id": "b7-1NubwXTOM"
      }
    },
    {
      "cell_type": "markdown",
      "source": [
        "* Ans: logging in python is used for storing the event happening in the code. this can be used to debug and improve the code"
      ],
      "metadata": {
        "id": "TVXNMs7tXZFv"
      }
    },
    {
      "cell_type": "markdown",
      "source": [
        "## 6. Explain the purpose of log levels in Python logging and provide examples of when\n",
        "each log level would be appropriate."
      ],
      "metadata": {
        "id": "HycVDmmoXqzS"
      }
    },
    {
      "cell_type": "markdown",
      "source": [
        "Ans: logging in python is used for storing the event happening in the code. this can be used to debug and improve the code\n",
        "* DEBUG: The lowest log level used for detailed debugging information. This level is suitable for capturing fine-grained information during development or when troubleshooting specific issues.\n",
        "\n",
        "Example: Logging variable values, function calls, or other detailed information to track program execution flow and identify specific issues.\n",
        "\n",
        "* INFO: Used for general information about the program's execution. It provides high-level information to indicate the progress and status of the application.\n",
        "\n",
        "Example: Logging startup messages, configuration details, or important milestones reached during program execution.\n",
        "\n",
        "* WARNING: Indicates potentially harmful or unexpected situations that do not prevent the program from functioning but might require attention. Warnings help identify potential issues or risky conditions.\n",
        "\n",
        "Example: Logging deprecated function usage, non-critical failures, or unusual behavior that might lead to problems.\n",
        "\n",
        "* ERROR: Indicates errors that prevent certain parts of the program from functioning correctly. These are typically exceptions or failures that impact the program's expected behavior.\n",
        "\n",
        "Example: Logging unhandled exceptions, failed operations, or critical errors that require immediate attention.\n",
        "\n",
        "* CRITICAL: The highest log level, reserved for the most severe errors or critical issues that can lead to program failure or data loss. These messages typically demand immediate attention.\n",
        "\n",
        "Example: Logging critical failures, security breaches, or any condition that requires immediate intervention."
      ],
      "metadata": {
        "id": "DggCe8C9X6uW"
      }
    },
    {
      "cell_type": "markdown",
      "source": [
        "# 7. What are log formatters in Python logging, and how can you customise the log message format using formatters?\n",
        "\n",
        "* Ans:\n",
        "In Python logging, log formatters are used to define the structure and format of log messages. They allow developers to customize how the log messages are displayed, including the inclusion of timestamps, log levels, loggers' names, and additional contextual information.The logging module provides a Formatter class that serves as the base class for creating log formatters. This class allows you to define a format string that specifies the desired layout and content of log messages."
      ],
      "metadata": {
        "id": "_feLFDttY3xL"
      }
    },
    {
      "cell_type": "markdown",
      "source": [
        "## 8. How can you set up logging to capture log messages from multiple modules or classes in a Python application?"
      ],
      "metadata": {
        "id": "G5wrA4sneB1B"
      }
    },
    {
      "cell_type": "code",
      "source": [
        "import logging\n",
        "\n",
        "logging.debug('This is a debug message')\n",
        "logging.info('This is an info message')\n",
        "logging.warning('This is a warning message')\n",
        "logging.error('This is an error message')\n",
        "logging.critical('This is a critical message')"
      ],
      "metadata": {
        "id": "18uJRRv8ZreR",
        "colab": {
          "base_uri": "https://localhost:8080/"
        },
        "outputId": "601f482c-affb-4daa-d666-4098eb118f7d"
      },
      "execution_count": 12,
      "outputs": [
        {
          "output_type": "stream",
          "name": "stderr",
          "text": [
            "WARNING:root:This is a warning message\n",
            "ERROR:root:This is an error message\n",
            "CRITICAL:root:This is a critical message\n"
          ]
        }
      ]
    },
    {
      "cell_type": "markdown",
      "source": [
        "9. What is the difference between the logging and print statements in Python? When\n",
        "should you use logging over print statements in a real-world application?"
      ],
      "metadata": {
        "id": "H9p-rTxipD0R"
      }
    },
    {
      "cell_type": "markdown",
      "source": [
        "* Logging is specifically designed for generating log messages and capturing information about an application's behavior, progress, and errors.\n",
        "Print statements are primarily used for simple output during development or debugging.\n",
        "* Logging allows for extensive configuration, including log levels, custom log formats, and directing log messages to different outputs.\n",
        "Print statements have limited configurability and usually output directly to the console.\n",
        "* During development and debugging, print statements can be useful for quick output of variable values or messages. However, for more controlled and configurable logging, it is recommended to switch to using the logging module."
      ],
      "metadata": {
        "id": "VD0RfJqKpN9T"
      }
    },
    {
      "cell_type": "markdown",
      "source": [
        "10. Write a Python program that logs a message to a file named \"app.log\" with the\n",
        "following requirements:\n",
        "● The log message should be \"Hello, World!\"\n",
        "● The log level should be set to \"INFO.\"\n",
        "● The log file should append new log entries without overwriting previous ones."
      ],
      "metadata": {
        "id": "379qEOyKpoED"
      }
    },
    {
      "cell_type": "code",
      "source": [
        "import logging\n",
        "\n",
        "\n",
        "logging.basicConfig(\n",
        "    filename='app.log',\n",
        "    filemode='a',\n",
        "    format='%(asctime)s - %(levelname)s - %(message)s',\n",
        "    level=logging.INFO\n",
        ")\n",
        "\n",
        "logging.info('Hello, World!')\n"
      ],
      "metadata": {
        "id": "30oZFc69op8-"
      },
      "execution_count": 13,
      "outputs": []
    },
    {
      "cell_type": "code",
      "source": [],
      "metadata": {
        "id": "Xosf5Zs0pq-N"
      },
      "execution_count": null,
      "outputs": []
    }
  ]
}
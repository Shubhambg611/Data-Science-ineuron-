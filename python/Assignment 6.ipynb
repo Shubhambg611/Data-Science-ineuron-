{
  "nbformat": 4,
  "nbformat_minor": 0,
  "metadata": {
    "colab": {
      "provenance": []
    },
    "kernelspec": {
      "name": "python3",
      "display_name": "Python 3"
    },
    "language_info": {
      "name": "python"
    }
  },
  "cells": [
    {
      "cell_type": "markdown",
      "source": [
        "### Assignment No : 6\n"
      ],
      "metadata": {
        "id": "a5B70OuBdyTx"
      }
    },
    {
      "cell_type": "markdown",
      "source": [
        "1.What are keywords in python?\n",
        "* Ans. keyword are special reserved words that have specific meaning\n",
        "\n"
      ],
      "metadata": {
        "id": "sVMQuB9Ykgm0"
      }
    },
    {
      "cell_type": "code",
      "execution_count": 5,
      "metadata": {
        "colab": {
          "base_uri": "https://localhost:8080/"
        },
        "id": "m3PlOknwdT0t",
        "outputId": "2abeadb9-a7e6-43e4-c3eb-473d08596d64"
      },
      "outputs": [
        {
          "output_type": "stream",
          "name": "stdout",
          "text": [
            "False\n",
            "None\n",
            "True\n",
            "and\n",
            "as\n",
            "assert\n",
            "async\n",
            "await\n",
            "break\n",
            "class\n",
            "continue\n",
            "def\n",
            "del\n",
            "elif\n",
            "else\n",
            "except\n",
            "finally\n",
            "for\n",
            "from\n",
            "global\n",
            "if\n",
            "import\n",
            "in\n",
            "is\n",
            "lambda\n",
            "nonlocal\n",
            "not\n",
            "or\n",
            "pass\n",
            "raise\n",
            "return\n",
            "try\n",
            "while\n",
            "with\n",
            "yield\n"
          ]
        }
      ],
      "source": [
        "import keyword\n",
        "keywords = keyword.kwlist\n",
        "for keyword in keywords:\n",
        "  print(keyword)"
      ]
    },
    {
      "cell_type": "markdown",
      "source": [
        "2.What are the rules to create variables in python?\n",
        "*  Ans :  \n",
        " * variabel name start with letter or underscore\n",
        " * varibale cannot be start with number\n",
        " * it can only contain alpha numeric character\n",
        " * variable name are case-sensitive\n",
        "\n"
      ],
      "metadata": {
        "id": "_93K2pDqoysP"
      }
    },
    {
      "cell_type": "markdown",
      "source": [
        "3. What are the standards and conventions followed for the nomenclature of variables in\n",
        "python to improve code readability and maintainability?\n",
        "* ans:\n",
        "  * Instance variable names should be all lower case.\n",
        "  * Use underscore to add new words to instances variables.\n",
        "  * Non-public instance variables should begin with a single underscore.\n"
      ],
      "metadata": {
        "id": "_-MM0xlXqQwB"
      }
    },
    {
      "cell_type": "markdown",
      "source": [
        "4. What will happen if a keyword is used as a variable name?"
      ],
      "metadata": {
        "id": "lP3P-kKmxg1f"
      }
    },
    {
      "cell_type": "code",
      "source": [
        "None = 100\n",
        "print(None)"
      ],
      "metadata": {
        "colab": {
          "base_uri": "https://localhost:8080/",
          "height": 131
        },
        "id": "ACjCz5sRk7CJ",
        "outputId": "8d41de86-d70e-4386-da87-3b279f1a38fb"
      },
      "execution_count": 6,
      "outputs": [
        {
          "output_type": "error",
          "ename": "SyntaxError",
          "evalue": "ignored",
          "traceback": [
            "\u001b[0;36m  File \u001b[0;32m\"<ipython-input-6-f40af5482aaf>\"\u001b[0;36m, line \u001b[0;32m1\u001b[0m\n\u001b[0;31m    None = 100\u001b[0m\n\u001b[0m    ^\u001b[0m\n\u001b[0;31mSyntaxError\u001b[0m\u001b[0;31m:\u001b[0m cannot assign to None\n"
          ]
        }
      ]
    },
    {
      "cell_type": "markdown",
      "source": [
        "5. For what purpose def keyword is used?\n",
        "* to create and define a function\n"
      ],
      "metadata": {
        "id": "3eAmNwyxxprh"
      }
    },
    {
      "cell_type": "code",
      "source": [
        "def shubham():\n",
        "  print(\"hello everyone \" ,)\n",
        "\n",
        "shubham()"
      ],
      "metadata": {
        "colab": {
          "base_uri": "https://localhost:8080/"
        },
        "id": "P31rxgCexnuh",
        "outputId": "5eb78698-b826-4791-a5e2-60b5bd053f4f"
      },
      "execution_count": 10,
      "outputs": [
        {
          "output_type": "stream",
          "name": "stdout",
          "text": [
            "hello everyone \n"
          ]
        }
      ]
    },
    {
      "cell_type": "markdown",
      "source": [
        "6. What is the operation of this special character ‘\\’?\n",
        "* Ans : In Python strings, the backslash \"\\\" is a special character, also called the \"escape\" character. It is used in representing certain whitespace characters: \"\\t\" is a tab, \"\\n\" is a newline, and \"\\r\" is a carriage return."
      ],
      "metadata": {
        "id": "i8keiLeH2RNI"
      }
    },
    {
      "cell_type": "markdown",
      "source": [
        "7. Give an example of the following conditions:\n",
        "* Homogeneous list\n",
        "* Heterogeneous set\n",
        "* Homogeneous tuple\n"
      ],
      "metadata": {
        "id": "t-inunvs3nlb"
      }
    },
    {
      "cell_type": "code",
      "source": [
        "# Homogeneous List\n",
        "fruits = [\"apple\", \"banana\", \"orange\", \"kiwi\"]"
      ],
      "metadata": {
        "id": "jEXUdKJK0Ez6"
      },
      "execution_count": 16,
      "outputs": []
    },
    {
      "cell_type": "code",
      "source": [
        "# Heterogeneous set\n",
        "my_set = {1, \"apple\", 3.14, True}"
      ],
      "metadata": {
        "id": "o35S-kob35eW"
      },
      "execution_count": 15,
      "outputs": []
    },
    {
      "cell_type": "code",
      "source": [
        "# Homogeneous tuple\n",
        "numbers = (1, 2, 3, 4, 5)"
      ],
      "metadata": {
        "id": "wda3zy9e4K_H"
      },
      "execution_count": 14,
      "outputs": []
    },
    {
      "cell_type": "markdown",
      "source": [
        "8. Explain the mutable and immutable data types with proper explanation & examples.\n",
        "\n",
        "* Ans:\n",
        " * Immutable Data Types:\n",
        "Immutable data types are those whose values cannot be changed after they are created. If you modify an immutable object, a new object is created with the modified value.\n",
        " * Mutable Data Types:\n",
        "Mutable data types are those that can be modified after they are created. You can change their values or properties without creating a new object. Here are some examples of mutable data types:"
      ],
      "metadata": {
        "id": "4b-CnoMu4y3p"
      }
    },
    {
      "cell_type": "code",
      "source": [
        "# Immutable Data Types:\n",
        "x = 10\n",
        "x = x + 5  # This creates a new object with the value 15\n",
        "x"
      ],
      "metadata": {
        "colab": {
          "base_uri": "https://localhost:8080/"
        },
        "id": "BklfmG2F4Uax",
        "outputId": "a9227d50-235b-4e1f-98c6-3ae6da218dd6"
      },
      "execution_count": 17,
      "outputs": [
        {
          "output_type": "execute_result",
          "data": {
            "text/plain": [
              "15"
            ]
          },
          "metadata": {},
          "execution_count": 17
        }
      ]
    },
    {
      "cell_type": "code",
      "source": [
        "# Mutable Data Types:\n",
        "lst = [1, 2, 3]\n",
        "lst[0] = 10  # Modifying the first element of the list\n",
        "lst.append(4)  # Adding a new element to the list\n",
        "lst"
      ],
      "metadata": {
        "colab": {
          "base_uri": "https://localhost:8080/"
        },
        "id": "BYQ3RIdn5QGn",
        "outputId": "0d5feeda-f64e-424d-ad23-a306ee937d8c"
      },
      "execution_count": 19,
      "outputs": [
        {
          "output_type": "execute_result",
          "data": {
            "text/plain": [
              "[10, 2, 3, 4]"
            ]
          },
          "metadata": {},
          "execution_count": 19
        }
      ]
    },
    {
      "cell_type": "markdown",
      "source": [
        "9. Write a code to create the given structure using only for loop."
      ],
      "metadata": {
        "id": "R2tiF-gt5lsL"
      }
    },
    {
      "cell_type": "code",
      "source": [
        "rows = 5  # Number of rows in the structure\n",
        "\n",
        "for i in range(rows):\n",
        "    for j in range(rows - i - 1):\n",
        "        print(' ', end='')\n",
        "\n",
        "    for k in range(2 * i + 1):\n",
        "        print('*', end='')\n",
        "\n",
        "    print()\n"
      ],
      "metadata": {
        "colab": {
          "base_uri": "https://localhost:8080/"
        },
        "id": "oWgl5f3l5elg",
        "outputId": "d5058228-94c7-46c2-fdc2-07b1ac128a2e"
      },
      "execution_count": 22,
      "outputs": [
        {
          "output_type": "stream",
          "name": "stdout",
          "text": [
            "    *\n",
            "   ***\n",
            "  *****\n",
            " *******\n",
            "*********\n"
          ]
        }
      ]
    },
    {
      "cell_type": "markdown",
      "source": [
        "10.Write a code to create the given structure using while loop."
      ],
      "metadata": {
        "id": "ypqHLdnK6SS3"
      }
    },
    {
      "cell_type": "code",
      "source": [
        "rows = 5  # Number of rows in the structure\n",
        "spaces = 0  # Initial number of spaces\n",
        "\n",
        "while rows > 0:\n",
        "    i = 0\n",
        "    while i < spaces:\n",
        "        print(' ', end='')\n",
        "        i += 1\n",
        "\n",
        "    j = 0\n",
        "    while j < (2 * rows - 1):\n",
        "        print('|', end='')\n",
        "        j += 1\n",
        "\n",
        "    print()\n",
        "\n",
        "    rows -= 1\n",
        "    spaces += 1\n"
      ],
      "metadata": {
        "colab": {
          "base_uri": "https://localhost:8080/"
        },
        "id": "akZ1uQFs5t9a",
        "outputId": "fbc83d66-7ee1-4ae6-c206-836c768b0124"
      },
      "execution_count": 23,
      "outputs": [
        {
          "output_type": "stream",
          "name": "stdout",
          "text": [
            "|||||||||\n",
            " |||||||\n",
            "  |||||\n",
            "   |||\n",
            "    |\n"
          ]
        }
      ]
    },
    {
      "cell_type": "code",
      "source": [],
      "metadata": {
        "id": "jSygjWqE6YUO"
      },
      "execution_count": null,
      "outputs": []
    }
  ]
}